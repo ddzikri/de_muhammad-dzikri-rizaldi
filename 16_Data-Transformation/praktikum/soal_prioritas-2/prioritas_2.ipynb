{
 "cells": [
  {
   "cell_type": "code",
   "execution_count": 1,
   "metadata": {},
   "outputs": [],
   "source": [
    "import pandas as pd"
   ]
  },
  {
   "cell_type": "code",
   "execution_count": 2,
   "metadata": {},
   "outputs": [
    {
     "name": "stdout",
     "output_type": "stream",
     "text": [
      "       category    price currency     price_1m2  \\\n",
      "0  Köhnə tikili  137 000      AZN  2 630 AZN/m²   \n",
      "1   Yeni tikili  183 000      AZN  1 790 AZN/m²   \n",
      "2  Köhnə tikili  145 000      AZN  2 230 AZN/m²   \n",
      "3  Köhnə tikili  190 000      AZN  2 000 AZN/m²   \n",
      "4   Yeni tikili  294 000      AZN  1 550 AZN/m²   \n",
      "\n",
      "                                               title  \\\n",
      "0  Satılır 3 otaqlı köhnə tikili 52 m², 8-ci kilo...   \n",
      "1  Satılır 2 otaqlı yeni tikili 102 m², Neftçilər m.   \n",
      "2  Satılır 2 otaqlı köhnə tikili 65 m², Nərimanov r.   \n",
      "3    Satılır 3 otaqlı köhnə tikili 95 m², Gənclik m.   \n",
      "4     Satılır 3 otaqlı yeni tikili 190 m², Nəsimi r.   \n",
      "\n",
      "                    address   floor    area title_deed  repair mortgage  \\\n",
      "0  Elşən Süleymanov küç 137   7 / 9   52 m²        var     var      NaN   \n",
      "1      Mehdi Abbasov küçəsi  2 / 17  102 m²     yoxdur     var      NaN   \n",
      "2         Atatürk Prospekti   6 / 9   65 m²        var     var      var   \n",
      "3               Atatürk pr.   4 / 9   95 m²        var     var      var   \n",
      "4      Möhsün Sənani küçəsi  6 / 16  190 m²        var  yoxdur      NaN   \n",
      "\n",
      "                             url  room_number  \n",
      "0  https://bina.az/items/3858477          3.0  \n",
      "1  https://bina.az/items/3858493          2.0  \n",
      "2  https://bina.az/items/3858489          2.0  \n",
      "3  https://bina.az/items/3858491          3.0  \n",
      "4  https://bina.az/items/3858488          3.0  \n"
     ]
    }
   ],
   "source": [
    "# Memuat data ke dalam DataFrame\n",
    "house_data = pd.read_csv('house_listings.csv')\n",
    "\n",
    "# Menampilkan beberapa baris pertama data\n",
    "print(house_data.head())"
   ]
  },
  {
   "cell_type": "code",
   "execution_count": 3,
   "metadata": {},
   "outputs": [
    {
     "name": "stderr",
     "output_type": "stream",
     "text": [
      "C:\\Users\\dzikri\\AppData\\Local\\Temp\\ipykernel_4432\\1202659471.py:11: FutureWarning: A value is trying to be set on a copy of a DataFrame or Series through chained assignment using an inplace method.\n",
      "The behavior will change in pandas 3.0. This inplace method will never work because the intermediate object on which we are setting values always behaves as a copy.\n",
      "\n",
      "For example, when doing 'df[col].method(value, inplace=True)', try using 'df.method({col: value}, inplace=True)' or df[col] = df[col].method(value) instead, to perform the operation inplace on the original object.\n",
      "\n",
      "\n",
      "  house_data['area'].fillna(house_data['area'].median(), inplace=True)\n"
     ]
    }
   ],
   "source": [
    "# Memuat data dari file CSV\n",
    "house_data = pd.read_csv('house_listings.csv')\n",
    "\n",
    "# Membersihkan kolom 'area' dari karakter non-numerik dan mengonversi ke tipe data float\n",
    "house_data['area'] = house_data['area'].str.replace(' m²', '').astype(float)\n",
    "\n",
    "# Membersihkan kolom 'price' dari karakter non-numerik dan mengonversi ke tipe data float\n",
    "house_data['price'] = house_data['price'].str.replace(' ', '').astype(float)\n",
    "\n",
    "# Identifikasi dan imputasi nilai yang hilang pada kolom 'area' dan 'floor'\n",
    "house_data['area'].fillna(house_data['area'].median(), inplace=True)\n"
   ]
  },
  {
   "cell_type": "code",
   "execution_count": 4,
   "metadata": {},
   "outputs": [],
   "source": [
    "# Mengatasi outlier pada kolom 'price' menggunakan metode IQR\n",
    "Q1 = house_data['price'].quantile(0.25)\n",
    "Q3 = house_data['price'].quantile(0.75)\n",
    "IQR = Q3 - Q1\n",
    "lower_bound = Q1 - 1.5 * IQR\n",
    "upper_bound = Q3 + 1.5 * IQR\n",
    "house_data = house_data[(house_data['price'] >= lower_bound) & (house_data['price'] <= upper_bound)]"
   ]
  },
  {
   "cell_type": "code",
   "execution_count": 5,
   "metadata": {},
   "outputs": [
    {
     "name": "stdout",
     "output_type": "stream",
     "text": [
      "                             url   area   floor                   address  \\\n",
      "0  https://bina.az/items/3858477   52.0   7 / 9  Elşən Süleymanov küç 137   \n",
      "1  https://bina.az/items/3858493  102.0  2 / 17      Mehdi Abbasov küçəsi   \n",
      "2  https://bina.az/items/3858489   65.0   6 / 9         Atatürk Prospekti   \n",
      "3  https://bina.az/items/3858491   95.0   4 / 9               Atatürk pr.   \n",
      "4  https://bina.az/items/3858488  190.0  6 / 16      Möhsün Sənani küçəsi   \n",
      "\n",
      "      price  \n",
      "0  137000.0  \n",
      "1  183000.0  \n",
      "2  145000.0  \n",
      "3  190000.0  \n",
      "4  294000.0  \n"
     ]
    }
   ],
   "source": [
    "# Pilih hanya kolom-kolom yang diminta\n",
    "selected_columns = ['url', 'area', 'floor', 'address', 'price']\n",
    "house_data_selected = house_data[selected_columns]\n",
    "\n",
    "# Menyimpan data yang telah diproses ke dalam file Excel\n",
    "house_data_selected.to_excel('house_listings_data.xlsx', index=False)\n",
    "\n",
    "# Menampilkan beberapa baris data untuk verifikasi\n",
    "print(house_data_selected.head())"
   ]
  }
 ],
 "metadata": {
  "kernelspec": {
   "display_name": "Python 3.10.7 64-bit",
   "language": "python",
   "name": "python3"
  },
  "language_info": {
   "codemirror_mode": {
    "name": "ipython",
    "version": 3
   },
   "file_extension": ".py",
   "mimetype": "text/x-python",
   "name": "python",
   "nbconvert_exporter": "python",
   "pygments_lexer": "ipython3",
   "version": "3.10.7"
  },
  "orig_nbformat": 4,
  "vscode": {
   "interpreter": {
    "hash": "5494b797a7c770e92d4e722d9fe775a738901e195b0fcca94a1ccbe298fe5cbb"
   }
  }
 },
 "nbformat": 4,
 "nbformat_minor": 2
}
