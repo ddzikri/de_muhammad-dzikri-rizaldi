{
 "cells": [
  {
   "cell_type": "code",
   "execution_count": 1,
   "metadata": {},
   "outputs": [],
   "source": [
    "import pandas as pd"
   ]
  },
  {
   "cell_type": "code",
   "execution_count": 2,
   "metadata": {},
   "outputs": [
    {
     "name": "stdout",
     "output_type": "stream",
     "text": [
      "       category    price currency     price_1m2  \\\n",
      "0  Köhnə tikili  137 000      AZN  2 630 AZN/m²   \n",
      "1   Yeni tikili  183 000      AZN  1 790 AZN/m²   \n",
      "2  Köhnə tikili  145 000      AZN  2 230 AZN/m²   \n",
      "3  Köhnə tikili  190 000      AZN  2 000 AZN/m²   \n",
      "4   Yeni tikili  294 000      AZN  1 550 AZN/m²   \n",
      "\n",
      "                                               title  \\\n",
      "0  Satılır 3 otaqlı köhnə tikili 52 m², 8-ci kilo...   \n",
      "1  Satılır 2 otaqlı yeni tikili 102 m², Neftçilər m.   \n",
      "2  Satılır 2 otaqlı köhnə tikili 65 m², Nərimanov r.   \n",
      "3    Satılır 3 otaqlı köhnə tikili 95 m², Gənclik m.   \n",
      "4     Satılır 3 otaqlı yeni tikili 190 m², Nəsimi r.   \n",
      "\n",
      "                    address   floor    area title_deed  repair mortgage  \\\n",
      "0  Elşən Süleymanov küç 137   7 / 9   52 m²        var     var      NaN   \n",
      "1      Mehdi Abbasov küçəsi  2 / 17  102 m²     yoxdur     var      NaN   \n",
      "2         Atatürk Prospekti   6 / 9   65 m²        var     var      var   \n",
      "3               Atatürk pr.   4 / 9   95 m²        var     var      var   \n",
      "4      Möhsün Sənani küçəsi  6 / 16  190 m²        var  yoxdur      NaN   \n",
      "\n",
      "                             url  room_number  \n",
      "0  https://bina.az/items/3858477          3.0  \n",
      "1  https://bina.az/items/3858493          2.0  \n",
      "2  https://bina.az/items/3858489          2.0  \n",
      "3  https://bina.az/items/3858491          3.0  \n",
      "4  https://bina.az/items/3858488          3.0  \n"
     ]
    }
   ],
   "source": [
    "# Memuat data ke dalam DataFrame\n",
    "house_data = pd.read_csv('house_listings.csv')\n",
    "\n",
    "# Menampilkan beberapa baris pertama data\n",
    "print(house_data.head())"
   ]
  },
  {
   "cell_type": "code",
   "execution_count": 12,
   "metadata": {},
   "outputs": [],
   "source": [
    "missing_values = house_data[['area', 'floor']].isnull().sum()\n",
    "mean_area = house_data['area'].mean()\n",
    "mean_floor = house_data['floor'].mean()\n",
    "house_data['area'] = house_data['area'].fillna(mean_area)\n",
    "house_data['floor'] = house_data['floor'].fillna(mean_floor)"
   ]
  },
  {
   "cell_type": "code",
   "execution_count": 16,
   "metadata": {},
   "outputs": [],
   "source": [
    "# Mengatasi Outlier\n",
    "Q1 = house_data['price'].quantile(0.25)\n",
    "Q3 = house_data['price'].quantile(0.75)\n",
    "IQR = Q3 - Q1\n",
    "lower_bound = Q1 - 1.5 * IQR\n",
    "upper_bound = Q3 + 1.5 * IQR\n",
    "outliers = house_data[(house_data['price'] < lower_bound) | (house_data['price'] > upper_bound)]\n",
    "house_data = house_data[~((house_data['price'] < lower_bound) | (house_data['price'] > upper_bound))]"
   ]
  },
  {
   "cell_type": "code",
   "execution_count": 19,
   "metadata": {},
   "outputs": [],
   "source": [
    "# Menjaga Integritas Data\n",
    "def validate_address(address):\n",
    "    # Implementasi logika validasi alamat\n",
    "    pass\n",
    "\n",
    "def validate_url(url):\n",
    "    # Implementasi logika validasi URL\n",
    "    pass\n",
    "\n",
    "house_data['address_valid'] = house_data['address'].apply(validate_address)\n",
    "house_data['url_valid'] = house_data['url'].apply(validate_url)\n",
    "\n",
    "# Simpan hasil\n",
    "house_data.to_csv('hasil_preprocessing.csv', index=False)"
   ]
  },
  {
   "cell_type": "code",
   "execution_count": 10,
   "metadata": {},
   "outputs": [
    {
     "name": "stdout",
     "output_type": "stream",
     "text": [
      "Empty DataFrame\n",
      "Columns: [category, price, currency, price_1m2, title, address, floor, area, title_deed, repair, mortgage, url, room_number, address_valid, url_valid]\n",
      "Index: []\n"
     ]
    }
   ],
   "source": [
    "print(house_data.head())"
   ]
  },
  {
   "cell_type": "code",
   "execution_count": null,
   "metadata": {},
   "outputs": [],
   "source": []
  }
 ],
 "metadata": {
  "kernelspec": {
   "display_name": "Python 3.10.7 64-bit",
   "language": "python",
   "name": "python3"
  },
  "language_info": {
   "codemirror_mode": {
    "name": "ipython",
    "version": 3
   },
   "file_extension": ".py",
   "mimetype": "text/x-python",
   "name": "python",
   "nbconvert_exporter": "python",
   "pygments_lexer": "ipython3",
   "version": "3.10.7"
  },
  "orig_nbformat": 4,
  "vscode": {
   "interpreter": {
    "hash": "5494b797a7c770e92d4e722d9fe775a738901e195b0fcca94a1ccbe298fe5cbb"
   }
  }
 },
 "nbformat": 4,
 "nbformat_minor": 2
}
