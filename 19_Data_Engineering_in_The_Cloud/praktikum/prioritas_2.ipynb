{
 "cells": [
  {
   "cell_type": "code",
   "execution_count": 1,
   "metadata": {},
   "outputs": [],
   "source": [
    "import pandas as pd\n",
    "import json\n",
    "import requests\n",
    "import firebase_admin\n",
    "from firebase_admin import credentials\n",
    "from firebase_admin import storage"
   ]
  },
  {
   "cell_type": "markdown",
   "metadata": {},
   "source": [
    "## Ekstrak Data"
   ]
  },
  {
   "cell_type": "code",
   "execution_count": 2,
   "metadata": {},
   "outputs": [
    {
     "name": "stdout",
     "output_type": "stream",
     "text": [
      "   trade_id stock_symbol trade_date  trade_time  trade_price  trade_volume  \\\n",
      "0         1        GOOGL   1/5/2017           3       675.51        501030   \n",
      "1         2         NVDA  3/27/2017          13       559.39         51823   \n",
      "2         3         NFLX  11/7/2015           0       811.33        684430   \n",
      "3         4         MSFT  5/29/2017          22       231.21        237465   \n",
      "4         5          JPM  11/8/2012          16       699.15        800344   \n",
      "\n",
      "   buyer_id  seller_id trade_type currency  \n",
      "0         1          1       sell      EUR  \n",
      "1         2          2        buy      ZAR  \n",
      "2         3          3       sell      ZWL  \n",
      "3         4          4        buy      IDR  \n",
      "4         5          5        buy      HRK  \n"
     ]
    }
   ],
   "source": [
    "# Mengambil data dari URL\n",
    "response = requests.get(\"https://gist.githubusercontent.com/nadirbslmh/93b62fdcfa694d4ec07bed9b3c94e401/raw/c07971341361e23fd4f3a880437c4d8e4ebcfafc/stock_trades.json\")\n",
    "data = response.json()\n",
    "\n",
    "# Membuat DataFrame dari data JSON\n",
    "df = pd.DataFrame(data)\n",
    "\n",
    "# Menampilkan lima baris pertama DataFrame\n",
    "print(df.head())\n"
   ]
  },
  {
   "cell_type": "markdown",
   "metadata": {},
   "source": [
    "## Transformasi Data"
   ]
  },
  {
   "cell_type": "code",
   "execution_count": 6,
   "metadata": {},
   "outputs": [
    {
     "name": "stdout",
     "output_type": "stream",
     "text": [
      "    trade_id stock_symbol  trade_date  trade_time  trade_price  trade_volume  \\\n",
      "0          1        GOOGL    1/5/2017           3       675.51        501030   \n",
      "7          8         AMZN  11/27/2017          16       827.92        384783   \n",
      "15        16         MSFT    1/1/2020           5       829.56        131961   \n",
      "18        19         MSFT   11/9/2015          21       753.17        994135   \n",
      "34        35         MSFT   7/12/2020           1       617.64        735687   \n",
      "\n",
      "    buyer_id  seller_id trade_type currency  \n",
      "0          1          1       sell      EUR  \n",
      "7          8          8        buy      CNY  \n",
      "15        16         16       sell      CUP  \n",
      "18        19         19       sell      CNY  \n",
      "34        35         35        buy      RUB  \n"
     ]
    }
   ],
   "source": [
    "transaksi_saham = df[(df['stock_symbol'].isin(['GOOGL', 'AMZN', 'MSFT', 'AAPL'])) & (df['trade_price'] > 500)]\n",
    "\n",
    "# Menampilkan lima baris pertama DataFrame hasil transformasi\n",
    "print(transaksi_saham.head())\n",
    "\n",
    "filename = 'transaksi_saham.csv'\n",
    "transaksi_saham.to_csv(filename, index=False)"
   ]
  },
  {
   "cell_type": "markdown",
   "metadata": {},
   "source": [
    "## LOAD DATA"
   ]
  },
  {
   "cell_type": "code",
   "execution_count": 7,
   "metadata": {},
   "outputs": [],
   "source": [
    "cred = credentials.Certificate(r\"C:\\codes\\de_muhammad-dzikri-rizaldi\\19_Data_Engineering_in_The_Cloud\\praktikum\\serviceAccountKey.json\")\n",
    "firebase_admin.initialize_app(cred, {\"storageBucket\": \"data-engineering-in-the-cloud.appspot.com\"})\n",
    "bucket = storage.bucket()\n",
    "\n",
    "df = pd.read_csv(\"transaksi_saham.csv\")\n",
    "df.to_parquet(\"transaksi_saham.parquet\")\n",
    "\n",
    "blob = bucket.blob(\"transaksi_saham.parquet\")\n",
    "blob.upload_from_filename(\"transaksi_saham.parquet\")"
   ]
  }
 ],
 "metadata": {
  "kernelspec": {
   "display_name": "Python 3.10.7 64-bit",
   "language": "python",
   "name": "python3"
  },
  "language_info": {
   "codemirror_mode": {
    "name": "ipython",
    "version": 3
   },
   "file_extension": ".py",
   "mimetype": "text/x-python",
   "name": "python",
   "nbconvert_exporter": "python",
   "pygments_lexer": "ipython3",
   "version": "3.10.7"
  },
  "orig_nbformat": 4,
  "vscode": {
   "interpreter": {
    "hash": "5494b797a7c770e92d4e722d9fe775a738901e195b0fcca94a1ccbe298fe5cbb"
   }
  }
 },
 "nbformat": 4,
 "nbformat_minor": 2
}
